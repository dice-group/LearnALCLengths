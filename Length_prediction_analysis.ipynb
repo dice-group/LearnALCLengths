{
 "cells": [
  {
   "cell_type": "code",
   "execution_count": 1,
   "id": "laughing-victor",
   "metadata": {},
   "outputs": [],
   "source": [
    "import json\n",
    "from sklearn.model_selection import train_test_split\n",
    "from helper_classes.experiment import Experiment\n",
    "from helper_classes.dataloader import CLPDataLoader\n",
    "import torch\n",
    "import pandas as pd"
   ]
  },
  {
   "cell_type": "code",
   "execution_count": null,
   "id": "sufficient-blind",
   "metadata": {},
   "outputs": [],
   "source": []
  },
  {
   "cell_type": "code",
   "execution_count": 2,
   "id": "victorian-nature",
   "metadata": {},
   "outputs": [],
   "source": [
    "def show_tbox_and_abox_size(kb):\n",
    "    from ontolearn import KnowledgeBase\n",
    "    import random\n",
    "    print()\n",
    "    print('#'*50)\n",
    "    print(kb.upper())\n",
    "    print('#'*50)\n",
    "    with open('./Datasets/'+kb+'/Triples/train.txt') as file:\n",
    "        triples = file.readlines()\n",
    "\n",
    "    kb = KnowledgeBase(path='./Datasets/'+kb+'/'+kb+'.owl')\n",
    "    rels = [rel.get_iri().get_remainder() for rel in kb.ontology().object_properties_in_signature()] +\\\n",
    "    [rel.get_iri().get_remainder() for rel in kb.ontology().data_properties_in_signature()]\n",
    "    abox, tbox = [], []\n",
    "    for line in triples:\n",
    "        try:\n",
    "            if 'subClassOf' in line.split('\\t')[1] or 'equivalentClass' in line.split('\\t')[1]:\n",
    "                tbox.append(line)\n",
    "            if line.split('\\t')[1].split('#')[-1] in rels:\n",
    "                abox.append(line)\n",
    "            if 'rdf-syntax-ns#type' in line.split('\\t')[1]:\n",
    "                abox.append(line)\n",
    "        except IndexError:\n",
    "            continue\n",
    "    print()\n",
    "    print('Example ABox statement: {}'.format(random.choice(abox)))\n",
    "    print('Example TBox statement: {}'.format(random.choice(tbox)))\n",
    "    print('\\nCardinality of ABox: {}, TBox: {}'.format(len(abox), len(tbox)))"
   ]
  },
  {
   "cell_type": "code",
   "execution_count": 3,
   "id": "necessary-preview",
   "metadata": {},
   "outputs": [
    {
     "name": "stdout",
     "output_type": "stream",
     "text": [
      "\n",
      "##################################################\n",
      "CARCINOGENESIS\n",
      "##################################################\n"
     ]
    },
    {
     "name": "stderr",
     "output_type": "stream",
     "text": [
      "* Owlready2 * Warning: optimized Cython parser module 'owlready2_optimized' is not available, defaulting to slower Python implementation\n"
     ]
    },
    {
     "name": "stdout",
     "output_type": "stream",
     "text": [
      "\n",
      "Example ABox statement: carcinogenesis#d280_22\t22-rdf-syntax-ns#type\tcarcinogenesis#Hydrogen-3\n",
      "\n",
      "Example TBox statement: carcinogenesis#Calcium-84\trdf-schema#subClassOf\tcarcinogenesis#Calcium\n",
      "\n",
      "\n",
      "Cardinality of ABox: 96757, TBox: 138\n",
      "\n",
      "##################################################\n",
      "MUTAGENESIS\n",
      "##################################################\n",
      "\n",
      "Example ABox statement: mutagenesis#bond5465\t22-rdf-syntax-ns#type\tmutagenesis#Bond-1\n",
      "\n",
      "Example TBox statement: mutagenesis#Methyl\trdf-schema#subClassOf\tmutagenesis#RingStructure\n",
      "\n",
      "\n",
      "Cardinality of ABox: 61965, TBox: 82\n",
      "\n",
      "##################################################\n",
      "SEMANTIC_BIBLE\n",
      "##################################################\n",
      "\n",
      "Example ABox statement: NTNames#Tryphosa\tNTNames#religiousBelief\tNTNames#Christianity\n",
      "\n",
      "Example TBox statement: NTNames#Region\trdf-schema#subClassOf\tNTNames#Object\n",
      "\n",
      "\n",
      "Cardinality of ABox: 3211, TBox: 51\n",
      "\n",
      "##################################################\n",
      "VICODI\n",
      "##################################################\n",
      "\n",
      "Example ABox statement: ontology#i-1090838164781-1547291224\tontology#intervalStart\t1518\n",
      "\n",
      "Example TBox statement: ontology#Natural-Object\trdf-schema#subClassOf\tontology#Object\n",
      "\n",
      "\n",
      "Cardinality of ABox: 149634, TBox: 193\n"
     ]
    }
   ],
   "source": [
    "for kb in ['carcinogenesis', 'mutagenesis', 'semantic_bible', 'vicodi']:\n",
    "    show_tbox_and_abox_size(kb)"
   ]
  },
  {
   "cell_type": "code",
   "execution_count": null,
   "id": "continent-desire",
   "metadata": {},
   "outputs": [],
   "source": []
  },
  {
   "cell_type": "code",
   "execution_count": 20,
   "id": "adequate-carbon",
   "metadata": {},
   "outputs": [],
   "source": [
    "def load_and_show_stats(kb):\n",
    "    from collections import Counter\n",
    "    with open(\"./Datasets/\"+kb+\"/Train_data/Data.json\", \"r\") as file:\n",
    "        data = json.load(file)\n",
    "    data = list(data.items())\n",
    "    data = Experiment.remove_minority_problem_types(data)\n",
    "    Count = Counter([value[\"target concept length\"] for _, value in data])\n",
    "    \n",
    "    d = {}\n",
    "    for l in Count:\n",
    "        d.setdefault(l, {})\n",
    "        d[l]={\"train\": int(round(0.9*0.8*Count[l],0)), \"valid\": int(round(0.1*0.8*Count[l],0)), \"test\": int(round(0.2*Count[l],0))}\n",
    "    print(d)\n",
    "    return data"
   ]
  },
  {
   "cell_type": "markdown",
   "id": "innocent-arthur",
   "metadata": {},
   "source": [
    "### Example on how to use CLPDataLoader"
   ]
  },
  {
   "cell_type": "code",
   "execution_count": 2,
   "id": "fifty-remains",
   "metadata": {},
   "outputs": [
    {
     "name": "stderr",
     "output_type": "stream",
     "text": [
      "Loading data...: 100%|██████████| 1548/1548 [03:55<00:00,  6.57it/s]\n"
     ]
    }
   ],
   "source": [
    "triples_path = \"./Datasets/carcinogenesis/Triples/\"\n",
    "\n",
    "data_c = load_and_show_stats(\"carcinogenesis\")\n",
    "\n",
    "_, test_data_c = train_test_split(data_c, test_size=0.2, random_state=123) # The same random state was used so that we have the same test data as the ones in the paper\n",
    "\n",
    "path_to_embeddings = \"./Embeddings/carcinogenesis/ConEx_entity_embeddings.csv\"\n",
    "\n",
    "entity_embeddings = pd.read_csv(path_to_embeddings).set_index(\"Unnamed: 0\")\n",
    "\n",
    "dataloader = CLPDataLoader({'random_seed': 1, 'path_to_triples': triples_path})\n",
    "\n",
    "data_numeric = dataloader.load(entity_embeddings, data=test_data_c, shuffle=False)"
   ]
  },
  {
   "cell_type": "code",
   "execution_count": 36,
   "id": "refined-liquid",
   "metadata": {},
   "outputs": [
    {
     "data": {
      "text/plain": [
       "tensor([[ 0.7452,  1.1436,  0.9549,  ...,  1.0308,  1.1996,  1.0000],\n",
       "        [ 0.5873,  0.4626,  1.0056,  ...,  1.2301,  1.3779,  1.0000],\n",
       "        [ 0.1044, -0.1323,  0.9416,  ...,  1.5694, -0.4399,  1.0000],\n",
       "        ...,\n",
       "        [ 0.7259, -0.1510,  0.2183,  ...,  1.1348, -0.2394, -1.0000],\n",
       "        [ 0.1590,  0.6640,  0.3740,  ...,  1.4481,  0.1498, -1.0000],\n",
       "        [ 0.0201, -0.3654,  0.2360,  ...,  1.2629,  0.1151, -1.0000]])"
      ]
     },
     "execution_count": 36,
     "metadata": {},
     "output_type": "execute_result"
    }
   ],
   "source": [
    "data_numeric_c[0][0]"
   ]
  },
  {
   "cell_type": "code",
   "execution_count": null,
   "id": "desperate-nomination",
   "metadata": {},
   "outputs": [],
   "source": []
  },
  {
   "cell_type": "code",
   "execution_count": 4,
   "id": "patient-fields",
   "metadata": {},
   "outputs": [],
   "source": [
    "import matplotlib.pyplot as plt\n",
    "import json"
   ]
  },
  {
   "cell_type": "code",
   "execution_count": 27,
   "id": "resistant-cowboy",
   "metadata": {},
   "outputs": [],
   "source": [
    "def plot_acc_curves(plt_data1, plt_data2, plt_data3, plt_data4, name1, name2, name3, name4, key, mode, out_file_name, y_axis):\n",
    "\n",
    "    \"\"\"\n",
    "    args:\n",
    "    ------\n",
    "    -plt_data: plot data for each KB\n",
    "    -name: name of KBs (Vicodi, Mutagenesis, Carcinogenesis or Semantic Bible)\n",
    "    -key: acc or loss\n",
    "    -mode: train or val\n",
    "    -out_file_name: file name for saving figures (without extension)\n",
    "    \"\"\"\n",
    "    Markers = ['--', ':', '2', '-']\n",
    "    Colors = ['g', 'b', 'm', 'c']\n",
    "    i = 0\n",
    "    fig, ((ax1, ax2, ax3, ax4)) = plt.subplots(1, 4, figsize=(20,5), sharey=True)\n",
    "    \n",
    "    #fig, ((ax1, ax2, ax3)) = plt.subplots(1, 3, figsize=(15,5), sharey=True, sharex=True)\n",
    "    #fig.suptitle('Sharing x per column, y per row')\n",
    "\n",
    "    for crv in plt_data1[mode][key]:\n",
    "        mk = Markers[i%4]\n",
    "        c = Colors[i%4]\n",
    "        ax1.plot(crv, mk, markersize=6, color=c)\n",
    "        i += 1\n",
    "    leg1 = ax1.legend(('GRU', 'LSTM', 'CNN', 'MLP'), prop={'size': 20})\n",
    "    for line in leg1.get_lines():\n",
    "        line.set_linewidth(4.0)\n",
    "    ax1.set_title(name1, fontsize=30, fontweight=\"bold\")\n",
    "    ax1.set_xlabel('Epochs', fontsize=25)\n",
    "    ax1.set_ylabel(y_axis, fontsize=25)\n",
    "    ax1.tick_params(axis='both', which='major', labelsize=20)\n",
    "\n",
    "    for crv in plt_data2[mode][key]:\n",
    "        mk = Markers[i%4]\n",
    "        c = Colors[i%4]\n",
    "        ax2.plot(crv, mk, markersize=6, color=c)\n",
    "        i += 1   \n",
    "    leg2 = ax2.legend(('GRU', 'LSTM', 'CNN', 'MLP'), prop={'size': 20})\n",
    "    for line in leg2.get_lines():\n",
    "        line.set_linewidth(4.0)\n",
    "    ax2.set_title(name2, fontsize=30, fontweight=\"bold\")\n",
    "    ax2.set_xlabel('Epochs', fontsize=25)\n",
    "    ax2.tick_params(axis='both', which='major', labelsize=20)\n",
    "\n",
    "    for crv in plt_data3[mode][key]:\n",
    "        mk = Markers[i%4]\n",
    "        c = Colors[i%4]\n",
    "        ax3.plot(crv, mk, markersize=10, color=c)\n",
    "        i += 1\n",
    "    leg3 = ax3.legend(('GRU', 'LSTM', 'CNN', 'MLP'), prop={'size': 20})\n",
    "    for line in leg3.get_lines():\n",
    "        line.set_linewidth(4.0)\n",
    "    ax3.set_title(name3, fontsize=30, fontweight=\"bold\")\n",
    "    ax3.set_xlabel('Epochs', fontsize=25)\n",
    "    ax3.tick_params(axis='both', which='major', labelsize=20)\n",
    "\n",
    "    for crv in plt_data4[mode][key]:\n",
    "        mk = Markers[i%4]\n",
    "        c = Colors[i%4]\n",
    "        ax4.plot(crv, mk, markersize=10, color=c)\n",
    "        i += 1\n",
    "    leg4 = ax4.legend(('GRU', 'LSTM', 'CNN', 'MLP'), prop={'size': 20})\n",
    "    for line in leg4.get_lines():\n",
    "        line.set_linewidth(4.0)\n",
    "    ax4.set_xlabel('Epochs', fontsize=25)\n",
    "    ax4.set_title(name4, fontsize=30, fontweight=\"bold\")\n",
    "    ax4.tick_params(axis='both', which='major', labelsize=20)\n",
    "\n",
    "    for ax in fig.get_axes():\n",
    "        ax.label_outer()\n",
    "    fig.savefig(out_file_name+\".pdf\", bbox_inches='tight')\n",
    "    fig.show()"
   ]
  },
  {
   "cell_type": "code",
   "execution_count": 22,
   "id": "abroad-amino",
   "metadata": {},
   "outputs": [],
   "source": [
    "with open(\"./Datasets/carcinogenesis/Plot_data/plot_data_with_val.json\") as file:\n",
    "    plot_data_carci = json.load(file)\n",
    "    \n",
    "with open(\"./Datasets/mutagenesis/Plot_data/plot_data_with_val.json\") as file:\n",
    "    plot_data_mut = json.load(file)\n",
    "    \n",
    "with open(\"./Datasets/semantic_bible/Plot_data/plot_data_with_val.json\") as file:\n",
    "    plot_data_sem = json.load(file)\n",
    "    \n",
    "with open(\"./Datasets/vicodi/Plot_data/plot_data_with_val.json\") as file:\n",
    "    plot_data_vic = json.load(file)"
   ]
  },
  {
   "cell_type": "code",
   "execution_count": 28,
   "id": "brief-anime",
   "metadata": {},
   "outputs": [],
   "source": [
    "plot_acc_curves(plot_data_carci, plot_data_mut, plot_data_sem, plot_data_vic, \"Carcinogenesis\", \"Mutagenesis\",\\\n",
    "                \"Semantic Bible\", \"Vicodi\", \"acc\", \"train\", \"train-acc\", \"Accuracy\")"
   ]
  },
  {
   "cell_type": "code",
   "execution_count": 29,
   "id": "hispanic-reason",
   "metadata": {},
   "outputs": [],
   "source": [
    "plot_acc_curves(plot_data_carci, plot_data_mut, plot_data_sem, plot_data_vic, \"Carcinogenesis\", \"Mutagenesis\",\\\n",
    "                \"Semantic Bible\", \"Vicodi\", \"acc\", \"val\", \"val-acc\", \"Accuracy\")"
   ]
  },
  {
   "cell_type": "code",
   "execution_count": 30,
   "id": "passive-directive",
   "metadata": {},
   "outputs": [],
   "source": [
    "plot_acc_curves(plot_data_carci, plot_data_mut, plot_data_sem, plot_data_vic, \"Carcinogenesis\", \"Mutagenesis\",\\\n",
    "                \"Semantic Bible\", \"Vicodi\", \"loss\", \"train\", \"train-loss\", \"Loss\")"
   ]
  },
  {
   "cell_type": "code",
   "execution_count": 31,
   "id": "otherwise-stewart",
   "metadata": {},
   "outputs": [],
   "source": [
    "plot_acc_curves(plot_data_carci, plot_data_mut, plot_data_sem, plot_data_vic, \"Carcinogenesis\", \"Mutagenesis\",\\\n",
    "                \"Semantic Bible\", \"Vicodi\", \"loss\", \"val\", \"val-loss\", \"Loss\")"
   ]
  },
  {
   "cell_type": "markdown",
   "id": "excellent-coalition",
   "metadata": {},
   "source": [
    "### Vicodi KB"
   ]
  },
  {
   "cell_type": "code",
   "execution_count": 33,
   "id": "proved-talent",
   "metadata": {},
   "outputs": [],
   "source": []
  },
  {
   "cell_type": "code",
   "execution_count": 21,
   "id": "enhanced-runner",
   "metadata": {},
   "outputs": [
    {
     "name": "stdout",
     "output_type": "stream",
     "text": [
      "{3: {'train': 3952, 'valid': 439, 'test': 1098}, 5: {'train': 2498, 'valid': 278, 'test': 694}, 6: {'train': 335, 'valid': 37, 'test': 93}, 7: {'train': 3597, 'valid': 400, 'test': 999}, 8: {'train': 747, 'valid': 83, 'test': 207}}\n"
     ]
    }
   ],
   "source": [
    "data_v = load_and_show_stats(\"vicodi\")"
   ]
  },
  {
   "cell_type": "code",
   "execution_count": null,
   "id": "southwest-north",
   "metadata": {},
   "outputs": [],
   "source": []
  },
  {
   "cell_type": "code",
   "execution_count": null,
   "id": "disturbed-dylan",
   "metadata": {},
   "outputs": [],
   "source": []
  },
  {
   "cell_type": "code",
   "execution_count": 24,
   "id": "processed-bread",
   "metadata": {},
   "outputs": [
    {
     "name": "stdout",
     "output_type": "stream",
     "text": [
      "{1: {'train': 33, 'valid': 4, 'test': 9}, 3: {'train': 487, 'valid': 54, 'test': 135}, 5: {'train': 546, 'valid': 61, 'test': 152}, 7: {'train': 162, 'valid': 18, 'test': 45}, 9: {'train': 73, 'valid': 8, 'test': 20}, 11: {'train': 41, 'valid': 5, 'test': 11}}\n"
     ]
    }
   ],
   "source": [
    "data_s = load_and_show_stats(\"semantic_bible\")"
   ]
  },
  {
   "cell_type": "code",
   "execution_count": null,
   "id": "choice-proportion",
   "metadata": {},
   "outputs": [],
   "source": []
  },
  {
   "cell_type": "code",
   "execution_count": null,
   "id": "happy-prayer",
   "metadata": {},
   "outputs": [],
   "source": []
  },
  {
   "cell_type": "code",
   "execution_count": 25,
   "id": "numerous-crack",
   "metadata": {},
   "outputs": [
    {
     "name": "stdout",
     "output_type": "stream",
     "text": [
      "{3: {'train': 1038, 'valid': 115, 'test': 288}, 5: {'train': 1156, 'valid': 128, 'test': 321}, 7: {'train': 1310, 'valid': 146, 'test': 364}}\n"
     ]
    }
   ],
   "source": [
    "data_m = load_and_show_stats(\"mutagenesis\")"
   ]
  },
  {
   "cell_type": "code",
   "execution_count": null,
   "id": "competitive-taste",
   "metadata": {},
   "outputs": [],
   "source": []
  },
  {
   "cell_type": "markdown",
   "id": "beneficial-stations",
   "metadata": {},
   "source": [
    "### Statistics on the predicted lengths per dataset "
   ]
  },
  {
   "cell_type": "code",
   "execution_count": 11,
   "id": "defensive-judgment",
   "metadata": {},
   "outputs": [
    {
     "name": "stdout",
     "output_type": "stream",
     "text": [
      "\n",
      "######### Carcinogenesis ########\n",
      "Range:  (3, 5)\n",
      "Longer concept would have been better:  0\n",
      "Successfully pruned:  41\n",
      "\n",
      "######### Mutagenesis ########\n",
      "Range:  (3, 7)\n",
      "Longer concept would have been better:  2\n",
      "Successfully pruned:  23\n",
      "\n",
      "######### Semantic Bible ########\n",
      "Range:  (1, 11)\n",
      "Longer concept would have been better:  14\n",
      "Successfully pruned:  20\n",
      "\n",
      "######### Vicodi ########\n",
      "Range:  (3, 7)\n",
      "Longer concept would have been better:  0\n",
      "Successfully pruned:  75\n"
     ]
    }
   ],
   "source": [
    "import json\n",
    "\n",
    "# Carcinogenesis\n",
    "\n",
    "with open('Datasets/carcinogenesis/Results/concept_learning_results_celoe_clp.json') as file:\n",
    "    clip_data = json.load(file)\n",
    "    \n",
    "with open('Datasets/carcinogenesis/Results/concept_learning_results_celoe.json') as file:\n",
    "    celoe_data = json.load(file)\n",
    "F1_clip = clip_data['F-measure']\n",
    "F1_celoe = celoe_data['F-measure']\n",
    "Lengths_clip = clip_data['Pred-Length']\n",
    "Lengths_celoe = celoe_data['Length']\n",
    "\n",
    "print('\\n######### Carcinogenesis ########')\n",
    "print('Range: ', (min(Lengths_clip), max(Lengths_clip)))\n",
    "longer_is_better = 0\n",
    "pruned = 0\n",
    "for i in range(len(F1_celoe)):\n",
    "    if F1_clip[i] < F1_celoe[i] and Lengths_celoe[i] > Lengths_clip[i]:\n",
    "        longer_is_better += 1\n",
    "    elif F1_clip[i] > F1_celoe[i]:\n",
    "        pruned += 1\n",
    "print('Longer concept would have been better: ', longer_is_better)\n",
    "print('Successfully pruned: ', pruned)\n",
    "\n",
    "\n",
    "# Mutagenesis\n",
    "with open('Datasets/mutagenesis/Results/concept_learning_results_celoe_clp.json') as file:\n",
    "    clip_data = json.load(file)\n",
    "    \n",
    "with open('Datasets/mutagenesis/Results/concept_learning_results_celoe.json') as file:\n",
    "    celoe_data = json.load(file)\n",
    "    \n",
    "F1_clip = clip_data['F-measure']\n",
    "F1_celoe = celoe_data['F-measure']\n",
    "Lengths_clip = clip_data['Pred-Length']\n",
    "Lengths_celoe = celoe_data['Length']\n",
    "\n",
    "print('\\n######### Mutagenesis ########')\n",
    "print('Range: ', (min(Lengths_clip), max(Lengths_clip)))\n",
    "longer_is_better = 0\n",
    "pruned = 0\n",
    "for i in range(len(F1_celoe)):\n",
    "    if F1_clip[i] < F1_celoe[i] and Lengths_celoe[i] > Lengths_clip[i]:\n",
    "        longer_is_better += 1\n",
    "    elif F1_clip[i] > F1_celoe[i]:\n",
    "        pruned += 1\n",
    "print('Longer concept would have been better: ', longer_is_better)\n",
    "print('Successfully pruned: ', pruned)\n",
    "\n",
    "\n",
    "# Semantic Bible\n",
    "\n",
    "with open('Datasets/semantic_bible/Results/concept_learning_results_celoe_clp.json') as file:\n",
    "    clip_data = json.load(file)\n",
    "    \n",
    "with open('Datasets/semantic_bible/Results/concept_learning_results_celoe.json') as file:\n",
    "    celoe_data = json.load(file)\n",
    "    \n",
    "F1_clip = clip_data['F-measure']\n",
    "F1_celoe = celoe_data['F-measure']\n",
    "Lengths_clip = clip_data['Pred-Length']\n",
    "Lengths_celoe = celoe_data['Length']\n",
    "\n",
    "print('\\n######### Semantic Bible ########')\n",
    "print('Range: ', (min(Lengths_clip), max(Lengths_clip)))\n",
    "longer_is_better = 0\n",
    "pruned = 0\n",
    "for i in range(len(F1_celoe)):\n",
    "    if F1_clip[i] < F1_celoe[i] and Lengths_celoe[i] > Lengths_clip[i]:\n",
    "        longer_is_better += 1\n",
    "    elif F1_clip[i] > F1_celoe[i]:\n",
    "        pruned += 1\n",
    "print('Longer concept would have been better: ', longer_is_better)\n",
    "print('Successfully pruned: ', pruned)\n",
    "\n",
    "\n",
    "# Vicodi\n",
    "\n",
    "with open('Datasets/vicodi/Results/concept_learning_results_celoe_clp.json') as file:\n",
    "    clip_data = json.load(file)\n",
    "    \n",
    "with open('Datasets/vicodi/Results/concept_learning_results_celoe.json') as file:\n",
    "    celoe_data = json.load(file)\n",
    "    \n",
    "F1_clip = clip_data['F-measure']\n",
    "F1_celoe = celoe_data['F-measure']\n",
    "Lengths_clip = clip_data['Pred-Length']\n",
    "Lengths_celoe = celoe_data['Length']\n",
    "\n",
    "print('\\n######### Vicodi ########')\n",
    "print('Range: ', (min(Lengths_clip), max(Lengths_clip)))\n",
    "longer_is_better = 0\n",
    "pruned = 0\n",
    "for i in range(len(F1_celoe)):\n",
    "    if F1_clip[i] < F1_celoe[i] and Lengths_celoe[i] > Lengths_clip[i]:\n",
    "        longer_is_better += 1\n",
    "    elif F1_clip[i] > F1_celoe[i]:\n",
    "        pruned += 1\n",
    "print('Longer concept would have been better: ', longer_is_better)\n",
    "print('Successfully pruned: ', pruned)"
   ]
  },
  {
   "cell_type": "code",
   "execution_count": null,
   "id": "killing-founder",
   "metadata": {},
   "outputs": [],
   "source": []
  }
 ],
 "metadata": {
  "kernelspec": {
   "display_name": "cll",
   "language": "python",
   "name": "cll"
  },
  "language_info": {
   "codemirror_mode": {
    "name": "ipython",
    "version": 3
   },
   "file_extension": ".py",
   "mimetype": "text/x-python",
   "name": "python",
   "nbconvert_exporter": "python",
   "pygments_lexer": "ipython3",
   "version": "3.8.8"
  }
 },
 "nbformat": 4,
 "nbformat_minor": 5
}
